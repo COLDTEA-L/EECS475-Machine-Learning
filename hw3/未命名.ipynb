{
 "cells": [
  {
   "cell_type": "markdown",
   "metadata": {},
   "source": [
    "6.13"
   ]
  },
  {
   "cell_type": "code",
   "execution_count": null,
   "metadata": {},
   "outputs": [],
   "source": [
    "# %load 6.13.py\n",
    "import numpy as np\n",
    "import matplotlib.pyplot as plt;\n",
    "\n",
    "# data input\n",
    "csvname = 'breast_cancer_data.csv'\n",
    "data = np.loadtxt(csvname,delimiter = ',')\n",
    "\n",
    "# get input and output of dataset\n",
    "x = data[:-1, :]\n",
    "y = data[-1:, :]\n",
    "#print('x:',x.shape)\n",
    "#print('y:',y.shape)\n",
    "\n",
    "q=x.shape[1]\n",
    "col=np.ones((1,q))\n",
    "x_1=np.r_[col,x]\n",
    "x_1=np.mat(x_1)\n",
    "#print('x_1:',x_1.shape)\n",
    "\n",
    "y=np.mat(y.T)\n",
    "s=x_1.shape[0]\n",
    "w=np.ones((1,s))\n",
    "w = np.mat(w)\n",
    "#print('w:',w.shape)\n",
    "\n",
    "iterations=600\n",
    "alpha=0.1\n",
    "alpha_p=0.05\n",
    "ite=np.zeros(iterations)\n",
    "sm_cost=np.zeros(iterations)\n",
    "p_cost=np.zeros(iterations)\n",
    "\n",
    "def model(x,w):\n",
    "    a=np.matmul(w,x)\n",
    "    return a.T\n",
    "\n",
    "def softmax(w):\n",
    "    temp=np.matmul(w,x_1)\n",
    "    cost=np.sum(np.log(1+np.exp(np.multiply(-y.T,temp))))\n",
    "    return cost/float(np.size(y))\n",
    "\n",
    "\n",
    "def gradient(w):\n",
    "    vector = np.zeros([9, 1])\n",
    "    for i in range(np.size(y)):\n",
    "        temp=np.exp(-y[i,0]*np.dot(w,x_1[:,i]))\n",
    "        temp1=temp/(1+temp)*y[i,0]\n",
    "        #print(temp1)\n",
    "        vector=vector+temp1[0,0]*x_1[:,i]\n",
    "\n",
    "    return -vector/float(np.size(y))\n",
    "\n",
    "def SoftMaxIte(w):\n",
    "\n",
    "    for i in range(iterations):\n",
    "      ite[i]=i\n",
    "      grad=gradient(w)\n",
    "      sm_cost[i] = softmax(w)\n",
    "      w=w-alpha*grad.T\n",
    "    return w\n",
    "\n",
    "def PerceptronCostFunction(w):\n",
    "    cost = 0\n",
    "    for i in range(np.size(y)):\n",
    "        temp=-y[i,0]*np.dot(w,x_1[:,i])\n",
    "        if (temp>0):\n",
    "            cost=cost+temp\n",
    "        else:\n",
    "            cost=cost\n",
    "    return cost / float(np.size(y))\n",
    "\n",
    "def GradientOfPerceptron(w):\n",
    "    vector=np.zeros([9,1])\n",
    "    for i in range(np.size(y)):\n",
    "        temp = -y[i, 0] * np.dot(w, x_1[:, i])\n",
    "        if(temp>0):\n",
    "            vector=vector+(-y[i,0])*x_1[:,i]\n",
    "        else:\n",
    "            vector=vector\n",
    "    return vector/float(np.size(y))\n",
    "\n",
    "def PerceptronIte(w):\n",
    "    for i in range(iterations):\n",
    "        ite[i] = i\n",
    "        grad = GradientOfPerceptron(w)\n",
    "        p_cost[i] = PerceptronCostFunction(w)\n",
    "        w = w - alpha_p * grad.T\n",
    "    return w\n",
    "\n",
    "w_for_softmax=SoftMaxIte(w)\n",
    "#print('w for softmax:',w_for_softmax)\n",
    "\n",
    "\n",
    "w_for_perceptron=PerceptronIte(w)\n",
    "#print('w for perceptron:',w_for_perceptron)\n",
    "\n",
    "yPredictSM = model(x_1, w_for_softmax)\n",
    "Multiplication = np.multiply(yPredictSM, y)\n",
    "wrong=0\n",
    "\n",
    "yPredictP = model(x_1, w_for_perceptron)\n",
    "Multiplication_P = np.multiply(yPredictP, y)\n",
    "wrong_P=0\n",
    "\n",
    "for j in range(Multiplication.size):\n",
    "    if (Multiplication[j, 0] < 0):\n",
    "        wrong = wrong + 1\n",
    "    if (Multiplication_P[j, 0] < 0):\n",
    "        wrong_P = wrong_P + 1\n",
    "print('Wrong Predictions for Softmax:', wrong)\n",
    "print('Wrong Predictions for Perceptron:', wrong_P)\n",
    "#print(sm_cost)\n",
    "plt.plot(ite, sm_cost,label=\"Softmax Cost Function\",color=\"#F08080\")\n",
    "plt.plot(ite, p_cost,label=\"Percptron Cost Function\")\n",
    "\n",
    "plt.legend(loc=\"upper right\")\n",
    "plt.show()\n",
    "\n",
    "\n"
   ]
  },
  {
   "cell_type": "code",
   "execution_count": 9,
   "metadata": {},
   "outputs": [
    {
     "name": "stdout",
     "output_type": "stream",
     "text": [
      "Wrong Predictions for Softmax: 25\n",
      "Wrong Predictions for Perceptron: 25\n"
     ]
    },
    {
     "data": {
      "image/png": "[encoded data removed]",
      "text/plain": [
       "<Figure size 432x288 with 1 Axes>"
      ]
     },
     "metadata": {
      "needs_background": "light"
     },
     "output_type": "display_data"
    }
   ],
   "source": [
    "%run 6.13.py"
   ]
  },
  {
   "cell_type": "markdown",
   "metadata": {},
   "source": [
    "6.15"
   ]
  },
  {
   "cell_type": "code",
   "execution_count": null,
   "metadata": {},
   "outputs": [],
   "source": [
    "# %load 6.15.py\n",
    "import numpy as np\n",
    "import matplotlib.pyplot as plt;\n",
    "# load in dataset\n",
    "csvname = 'credit_dataset.csv'\n",
    "data = np.loadtxt(csvname,delimiter = ',')\n",
    "x = data[:-1,:]\n",
    "y = data[-1:,:]\n",
    "\n",
    "print(np.shape(x))\n",
    "print(np.shape(y))\n",
    "s=x.shape[1]\n",
    "r=np.ones([1,s])\n",
    "w=np.ones([1,x.shape[0]+1])\n",
    "iterations=12000\n",
    "ite=np.zeros(iterations)\n",
    "p_cost=np.zeros(iterations)\n",
    "alpha=0.00005\n",
    "\n",
    "for i in range(x.shape[0]):\n",
    "    mean=np.mean(x[i,:])\n",
    "    std=np.std(x[i,:])\n",
    "    x[i,:]=(x[i,:]-mean)/std\n",
    "\n",
    "x=np.mat(np.r_[r,x])\n",
    "y=np.mat(y)\n",
    "\n",
    "weights=[]\n",
    "for i in range(np.size(y)):\n",
    "    if y[0,i]>0:\n",
    "        weights.append(5)\n",
    "    else:\n",
    "        weights.append(30)\n",
    "\n",
    "#Perceptron\n",
    "def model(x,w):\n",
    "    a=np.matmul(w,x)\n",
    "    return a.T\n",
    "\n",
    "def PerceptronCostFunction(w):\n",
    "    cost = 0\n",
    "    for i in range(np.size(y)):\n",
    "        temp=-y[0,i]*np.dot(w,x[:,i])\n",
    "        if (temp[0,0]>0):\n",
    "            cost=cost+weights[i]*temp[0,0]\n",
    "        else:\n",
    "            cost=cost\n",
    "    return cost / float(np.size(y))\n",
    "\n",
    "def GradientOfPerceptron(w):\n",
    "    vector=np.zeros([1,s])\n",
    "    for i in range(np.size(y)):\n",
    "        #print(w.shape)\n",
    "        #print(x[:,i].shape)\n",
    "        #print(np.dot(w, x[:, i]).shape)\n",
    "        temp = -y[0, i] * np.dot(w, x[:, i])\n",
    "        #print(temp.shape)\n",
    "        if(temp[0,0]>0):\n",
    "            vector=vector+weights[i]*(-y[0,i])*x[:,i]\n",
    "        else:\n",
    "            vector=vector\n",
    "    return vector/float(np.size(y))\n",
    "\n",
    "def PerceptronIte(w):\n",
    "    for i in range(iterations):\n",
    "        ite[i] = i\n",
    "        grad = GradientOfPerceptron(w)\n",
    "        p_cost[i] = PerceptronCostFunction(w)\n",
    "        w = w - alpha * grad.T\n",
    "    return w\n",
    "\n",
    "w=PerceptronIte(w)\n",
    "yPredictions=np.matmul(w,x)\n",
    "TP=0\n",
    "TN=0\n",
    "FP=0\n",
    "FN=0\n",
    "\n",
    "for i in range(np.size(y)):\n",
    "    if (y[0,i]>=0) and (yPredictions[0,i]>=0):\n",
    "        TP=TP+1\n",
    "    elif (y[0,i]>=0) and (yPredictions[0,i]<0):\n",
    "        TN=TN+1\n",
    "    elif (y[0,i]<0) and (yPredictions[0,i]>0):\n",
    "        FP=FP+1\n",
    "    else:\n",
    "        FN=FN+1\n",
    "\n",
    "print('Predicted  Good    Bad')\n",
    "print('ACtual Good' ,  TP,     TN)\n",
    "print('       Bad ',FP,     FN)\n",
    "\n",
    "\n",
    "\n",
    "\n",
    "plt.plot(ite,p_cost)\n",
    "plt.show()"
   ]
  },
  {
   "cell_type": "code",
   "execution_count": 12,
   "metadata": {},
   "outputs": [
    {
     "name": "stdout",
     "output_type": "stream",
     "text": [
      "Predicted  Good    Bad\n",
      "ACtual Good 430 270\n",
      "       Bad  62 238\n"
     ]
    },
    {
     "data": {
      "image/png": "[encoded data removed]",
      "text/plain": [
       "<Figure size 432x288 with 1 Axes>"
      ]
     },
     "metadata": {
      "needs_background": "light"
     },
     "output_type": "display_data"
    }
   ],
   "source": [
    "%run 6.15.py"
   ]
  },
  {
   "cell_type": "markdown",
   "metadata": {},
   "source": [
    "6.16"
   ]
  },
  {
   "cell_type": "code",
   "execution_count": null,
   "metadata": {},
   "outputs": [],
   "source": [
    "# %load 6.16.py\n",
    "import numpy as np\n",
    "import matplotlib.pyplot as plt;\n",
    "# data input\n",
    "csvname = '3d_classification_data_v2_mbalanced.csv'\n",
    "data1 = np.loadtxt(csvname,delimiter = ',')\n",
    "\n",
    "# get input and output of dataset\n",
    "x = data1[:-1,:]\n",
    "y = data1[-1:,:]\n",
    "\n",
    "#print(np.shape(x))\n",
    "#print(np.shape(y))\n",
    "\n",
    "s=x.shape[1]\n",
    "r=np.ones([1,s])\n",
    "x=np.mat(np.r_[r,x])\n",
    "#print(x.shape)\n",
    "w=np.ones([1,x.shape[0]])\n",
    "iterations=5\n",
    "ite=np.zeros(iterations)\n",
    "cost=np.zeros(iterations)\n",
    "\n",
    "def weights(y,beta):\n",
    "    weight=[]\n",
    "    for i in range(np.size(y)):\n",
    "        if y[0,i]<0:\n",
    "            weight.append(1)\n",
    "        else:\n",
    "            weight.append(beta)\n",
    "    return weight\n",
    "\n",
    "def softmax(w,weight):\n",
    "    cost=0\n",
    "    for i in range(np.size(y)):\n",
    "        temp = np.matmul(w, x[:,i])\n",
    "\n",
    "        temp1=np.log(1+np.exp(-y[0,i]*temp))\n",
    "\n",
    "        cost=cost+weight[i]*temp1\n",
    "    return cost/float(np.size(y))\n",
    "\n",
    "\n",
    "\n",
    "def Gradient(w,weight):\n",
    "    vector = np.zeros([x.shape[0], 1])\n",
    "    for i in range(np.size(y)):\n",
    "        temp = np.exp(-y[0, i] * np.dot(w, x[:, i]))\n",
    "        temp1 = weight[i]*temp / (1 + temp) * y[0, i]\n",
    "        # print(temp1)\n",
    "        vector = vector + temp1[0,0] * x[:, i]\n",
    "\n",
    "    return -vector/float(np.size(y))\n",
    "\n",
    "def Hessian(w,weight):\n",
    "    Hes=np.zeros([x.shape[0],x.shape[0]])\n",
    "    for i in range(np.size(y)):\n",
    "        temp=1+np.exp(y[0, i] * np.dot(w, x[:, i]))\n",
    "        temp1=weight[i]*(1/temp)*(1-1/temp)\n",
    "        Hes=Hes+temp1[0,0]*np.matmul(x[:,i],x[:,i].T)\n",
    "\n",
    "    return Hes/float(np.size(y))\n",
    "\n",
    "def NMIte(w,weight,iterations):\n",
    "    for i in range(iterations):\n",
    "\n",
    "        ite[i]=i\n",
    "        Hes=Hessian(w,weight)\n",
    "        grad=Gradient(w,weight)\n",
    "        a=np.matmul((np.linalg.inv(Hes)),grad)\n",
    "        w=w-a.T\n",
    "        cost[i]=softmax(w,weight)\n",
    "    return w\n",
    "\n",
    "weight=weights(y,5)\n",
    "w_1=NMIte(w,weight,iterations)\n",
    "#print(w_1)\n",
    "yPre=np.matmul(w_1,x)\n",
    "wrong=0\n",
    "#print(yPre)\n",
    "for i in range(np.size(y)):\n",
    "    if y[0,i]>0 and yPre[0,i]<0:\n",
    "        wrong=wrong+1\n",
    "\n",
    "\n",
    "\n",
    "#print(cost)\n",
    "print('beta=',5,'Wrong Prediction:',wrong)\n",
    "plt.plot(ite,cost)\n",
    "plt.show()"
   ]
  },
  {
   "cell_type": "code",
   "execution_count": 18,
   "metadata": {},
   "outputs": [
    {
     "name": "stdout",
     "output_type": "stream",
     "text": [
      "beta= 5 Wrong Prediction: 1\n"
     ]
    },
    {
     "data": {
      "image/png": "[encoded data removed]",
      "text/plain": [
       "<Figure size 432x288 with 1 Axes>"
      ]
     },
     "metadata": {
      "needs_background": "light"
     },
     "output_type": "display_data"
    }
   ],
   "source": [
    "%run 6.16.py"
   ]
  },
  {
   "cell_type": "code",
   "execution_count": 19,
   "metadata": {},
   "outputs": [
    {
     "name": "stdout",
     "output_type": "stream",
     "text": [
      "beta= 10 Wrong Prediction: 0\n"
     ]
    },
    {
     "data": {
      "image/png": "[encoded data removed]",
      "text/plain": [
       "<Figure size 432x288 with 1 Axes>"
      ]
     },
     "metadata": {
      "needs_background": "light"
     },
     "output_type": "display_data"
    }
   ],
   "source": [
    "%run 6.16.py"
   ]
  }
 ],
 "metadata": {
  "kernelspec": {
   "display_name": "Python 3",
   "language": "python",
   "name": "python3"
  },
  "language_info": {
   "codemirror_mode": {
    "name": "ipython",
    "version": 3
   },
   "file_extension": ".py",
   "mimetype": "text/x-python",
   "name": "python",
   "nbconvert_exporter": "python",
   "pygments_lexer": "ipython3",
   "version": "3.7.4"
  }
 },
 "nbformat": 4,
 "nbformat_minor": 2
}
