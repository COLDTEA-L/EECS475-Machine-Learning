{
 "cells": [
  {
   "cell_type": "code",
   "execution_count": 14,
   "metadata": {},
   "outputs": [
    {
     "data": {
      "image/png": "[encoded data removed]",
      "text/plain": [
       "<Figure size 432x288 with 1 Axes>"
      ]
     },
     "metadata": {
      "needs_background": "light"
     },
     "output_type": "display_data"
    }
   ],
   "source": [
    "%run hw2.py"
   ]
  },
  {
   "cell_type": "markdown",
   "metadata": {},
   "source": [
    "Start with [1,1]"
   ]
  },
  {
   "cell_type": "code",
   "execution_count": 5,
   "metadata": {
    "scrolled": true
   },
   "outputs": [
    {
     "data": {
      "image/png": "[encoded data removed]",
      "text/plain": [
       "<Figure size 432x288 with 1 Axes>"
      ]
     },
     "metadata": {
      "needs_background": "light"
     },
     "output_type": "display_data"
    }
   ],
   "source": [
    "%run hw2.py"
   ]
  },
  {
   "cell_type": "markdown",
   "metadata": {},
   "source": [
    "Start with 4*[1,1]"
   ]
  },
  {
   "cell_type": "markdown",
   "metadata": {},
   "source": [
    "I think the resaon that 4*[1,1] provokes more rapidly convergence than [1,1] is that for Newton Method, the direction is downhill and setplength is inverse Hessian matrix multiply the first order deriviation matrix. Since the deriviation at 4 is larger than 1 significantly, the steplength at 4 will be also larger than 1, which indicates the rapid convergence."
   ]
  },
  {
   "cell_type": "markdown",
   "metadata": {},
   "source": [
    "# 5.2"
   ]
  },
  {
   "cell_type": "code",
   "execution_count": null,
   "metadata": {},
   "outputs": [],
   "source": [
    "# %load 5.2\n",
    "import numpy as np\n",
    "# import the dataset\n",
    "csvname =  'kleibers_law_data.csv'\n",
    "data = np.loadtxt(csvname,delimiter=',')\n",
    "x = data[:-1,:]\n",
    "y = data[-1:,:]\n",
    "x=np.log(x)\n",
    "y=np.log(y)\n",
    "s=x.shape[1]\n",
    "col=np.ones((1,s))\n",
    "x_1=np.r_[col,x]\n",
    "x_1=x_1.T\n",
    "x_1=np.mat(x_1)\n",
    "\n",
    "\n",
    "interations=1000\n",
    "alpha=0.0001\n",
    "def model(x,w):\n",
    "    a=w[0,0]+np.dot(x.T,w[0,1])\n",
    "    return a.T\n",
    "\n",
    "def least_squares(w):\n",
    "    cost=np.sum((model(x,w)-y)**2)\n",
    "    c=model(x,w)\n",
    "    return 0.5*cost/float(y.size)\n",
    "\n",
    "w=np.array([1,1])\n",
    "w = np.mat(w)\n",
    "for i in range(interations):\n",
    "   grad = np.matmul(x_1, w.T)\n",
    "   minus=grad-y.T\n",
    "   temp=np.matmul(x_1.T,minus)\n",
    "   w=w-alpha*temp.T\n",
    "   cost=least_squares(w)\n",
    "\n",
    "\n",
    "print('w:',w.T)\n",
    "\n",
    "\n",
    "\n"
   ]
  },
  {
   "cell_type": "code",
   "execution_count": 8,
   "metadata": {},
   "outputs": [
    {
     "name": "stdout",
     "output_type": "stream",
     "text": [
      "w: [[6.81473477]\n",
      " [0.6528121 ]]\n"
     ]
    }
   ],
   "source": [
    "%run 5.2"
   ]
  },
  {
   "cell_type": "markdown",
   "metadata": {},
   "source": [
    "5.2 (b) $y=e^{6.815}*x^{0.653}$"
   ]
  },
  {
   "cell_type": "markdown",
   "metadata": {},
   "source": [
    "5.2 (c) $e^{6.815}*10^{0.653}/4.18=980.026 Kilo Calories$"
   ]
  },
  {
   "cell_type": "markdown",
   "metadata": {},
   "source": [
    "# 5.9"
   ]
  },
  {
   "cell_type": "markdown",
   "metadata": {},
   "source": [
    "Boston Housing"
   ]
  },
  {
   "cell_type": "code",
   "execution_count": null,
   "metadata": {},
   "outputs": [],
   "source": [
    "# %load 5.9.py\n",
    "import numpy as np\n",
    "# import the dataset\n",
    "csvname =  'boston_housing.csv'\n",
    "data = np.loadtxt(csvname,delimiter=',')\n",
    "x = data[:-1,:]\n",
    "y = data[-1:,:]\n",
    "\n",
    "s=x.shape[0]\n",
    "mean=np.zeros(s)\n",
    "std=np.zeros(s)\n",
    "for i in range (np.shape(x)[0]):\n",
    "    mean[i]=np.mean(x[i,:])\n",
    "    std[i]=np.std(x[i,:])\n",
    "\n",
    "for i in range(np.shape(x)[0]):\n",
    "    x[i,:]=(x[i,:]-mean[i])/std[i]\n",
    "\n",
    "\n",
    "q=x.shape[1]\n",
    "col=np.ones((1,q))\n",
    "x_1=np.r_[col,x]\n",
    "x_1=x_1\n",
    "x_1=np.mat(x_1)\n",
    "interations=100\n",
    "alpha=0.0001\n",
    "def model(x,w):\n",
    "    a=np.matmul(w,x_1)\n",
    "    return a.T\n",
    "\n",
    "def least_squares(w):\n",
    "    temp=model(x_1,w)-y.T\n",
    "    cost=np.matmul(temp.T,temp)\n",
    "    return cost/float(y.size)\n",
    "\n",
    "def mad(w):\n",
    "    temp = model(x_1, w) - y.T\n",
    "    mad = np.sum(np.abs(temp))\n",
    "    return mad / float(y.size)\n",
    "\n",
    "w=np.zeros((1,(s+1)))\n",
    "w = np.mat(w)\n",
    "\n",
    "for i in range(interations):\n",
    "   grad = np.matmul(w,x_1)\n",
    "   minus=grad.T-y.T\n",
    "   temp=np.matmul(x_1,minus)\n",
    "   w=w-alpha*temp.T\n",
    "   cost=least_squares(w)\n",
    "\n",
    "print('RMSE:',np.sqrt(cost))\n",
    "print('MAD:',mad(w))\n",
    "\n",
    "\n",
    "\n"
   ]
  },
  {
   "cell_type": "code",
   "execution_count": 10,
   "metadata": {},
   "outputs": [
    {
     "name": "stdout",
     "output_type": "stream",
     "text": [
      "RMSE: [[4.7616184]]\n",
      "MAD: 3.2273132781706195\n"
     ]
    }
   ],
   "source": [
    "%run 5.9.py"
   ]
  },
  {
   "cell_type": "markdown",
   "metadata": {},
   "source": [
    "Automobile"
   ]
  },
  {
   "cell_type": "code",
   "execution_count": null,
   "metadata": {},
   "outputs": [],
   "source": [
    "# %load automobile.py\n",
    "import numpy as np\n",
    "# import the dataset\n",
    "csvname =  'auto_data.csv'\n",
    "data = np.loadtxt(csvname,delimiter=',')\n",
    "x = data[:-1,:]\n",
    "y = data[-1:,:]\n",
    "\n",
    "s=x.shape[0]\n",
    "mean=np.zeros(s)\n",
    "std=np.zeros(s)\n",
    "for i in range (np.shape(x)[0]):\n",
    "    mean[i]=np.mean(x[i,:])\n",
    "    std[i]=np.std(x[i,:])\n",
    "\n",
    "for i in range(np.shape(x)[0]):\n",
    "    x[i,:]=(x[i,:]-mean[i])/std[i]\n",
    "\n",
    "\n",
    "q=x.shape[1]\n",
    "col=np.ones((1,q))\n",
    "x_1=np.r_[col,x]\n",
    "x_1=x_1\n",
    "x_1=np.mat(x_1)\n",
    "interations=100\n",
    "alpha=0.001\n",
    "def model(x,w):\n",
    "    a=np.matmul(w,x_1)\n",
    "    return a.T\n",
    "\n",
    "def least_squares(w):\n",
    "    temp=model(x_1,w)-y.T\n",
    "    cost=np.matmul(temp.T,temp)\n",
    "    return cost/float(y.size)\n",
    "\n",
    "def mad(w):\n",
    "    temp = model(x_1, w) - y.T\n",
    "    mad = np.sum(np.abs(temp))\n",
    "    return mad / float(y.size)\n",
    "\n",
    "w=np.zeros((1,(s+1)))\n",
    "w = np.mat(w)\n",
    "\n",
    "for i in range(interations):\n",
    "   grad = np.matmul(w,x_1)\n",
    "   minus=grad.T-y.T\n",
    "   temp=np.matmul(x_1,minus)\n",
    "   w=w-alpha*temp.T\n",
    "   cost=least_squares(w)\n",
    "\n",
    "\n",
    "print('RMSE:',np.sqrt(cost))\n",
    "print('MAD:',mad(w))\n",
    "\n",
    "\n",
    "\n"
   ]
  },
  {
   "cell_type": "code",
   "execution_count": 12,
   "metadata": {},
   "outputs": [
    {
     "name": "stdout",
     "output_type": "stream",
     "text": [
      "RMSE: [[3.29884191]]\n",
      "MAD: 2.493448363932387\n"
     ]
    }
   ],
   "source": [
    "%run automobile.py"
   ]
  }
 ],
 "metadata": {
  "kernelspec": {
   "display_name": "Python 3",
   "language": "python",
   "name": "python3"
  },
  "language_info": {
   "codemirror_mode": {
    "name": "ipython",
    "version": 3
   },
   "file_extension": ".py",
   "mimetype": "text/x-python",
   "name": "python",
   "nbconvert_exporter": "python",
   "pygments_lexer": "ipython3",
   "version": "3.7.4"
  }
 },
 "nbformat": 4,
 "nbformat_minor": 2
}
